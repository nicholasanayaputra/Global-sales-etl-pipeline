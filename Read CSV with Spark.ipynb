{
 "cells": [
  {
   "cell_type": "code",
   "execution_count": 1,
   "id": "9315232f-5def-4b88-9142-dcf278c38b7f",
   "metadata": {},
   "outputs": [],
   "source": [
    "from pyspark.sql import SparkSession\n",
    "\n",
    "spark = SparkSession.builder \\\n",
    "    .appName(\"MinIO Read Example\") \\\n",
    "    .config(\"spark.jars\", \"jars/hadoop-aws-3.3.2.jar,jars/aws-java-sdk-bundle-1.11.1026.jar\") \\\n",
    "    .config(\"spark.hadoop.fs.s3a.access.key\", \"minioadmin\") \\\n",
    "    .config(\"spark.hadoop.fs.s3a.secret.key\", \"minioadmin123\") \\\n",
    "    .config(\"spark.hadoop.fs.s3a.endpoint\", \"http://localhost:9000\") \\\n",
    "    .config(\"spark.hadoop.fs.s3a.impl\", \"org.apache.hadoop.fs.s3a.S3AFileSystem\") \\\n",
    "    .config(\"spark.hadoop.fs.s3a.path.style.access\", \"true\") \\\n",
    "    .getOrCreate()"
   ]
  },
  {
   "cell_type": "code",
   "execution_count": 4,
   "id": "d1c06464-6c8a-4617-8632-a63a9642d6cc",
   "metadata": {},
   "outputs": [],
   "source": [
    "df_transactions = spark.read.option(\"header\", True) \\\n",
    "    .csv(\"s3a://raw-data/transactions.csv\")"
   ]
  },
  {
   "cell_type": "code",
   "execution_count": 5,
   "id": "f26f2f8c-56ed-4c76-8a16-a4497d822a5c",
   "metadata": {},
   "outputs": [],
   "source": [
    "df_customers = spark.read.option(\"header\", True) \\\n",
    "    .csv(\"s3a://raw-data/customers.csv\")"
   ]
  },
  {
   "cell_type": "code",
   "execution_count": 6,
   "id": "14cd1a41-c711-4553-ae1f-ad615f8cf57c",
   "metadata": {},
   "outputs": [
    {
     "name": "stdout",
     "output_type": "stream",
     "text": [
      "root\n",
      " |-- Invoice ID: string (nullable = true)\n",
      " |-- Line: string (nullable = true)\n",
      " |-- Customer ID: string (nullable = true)\n",
      " |-- Product ID: string (nullable = true)\n",
      " |-- Size: string (nullable = true)\n",
      " |-- Color: string (nullable = true)\n",
      " |-- Unit Price: string (nullable = true)\n",
      " |-- Quantity: string (nullable = true)\n",
      " |-- Date: string (nullable = true)\n",
      " |-- Discount: string (nullable = true)\n",
      " |-- Line Total: string (nullable = true)\n",
      " |-- Store ID: string (nullable = true)\n",
      " |-- Employee ID: string (nullable = true)\n",
      " |-- Currency: string (nullable = true)\n",
      " |-- Currency Symbol: string (nullable = true)\n",
      " |-- SKU: string (nullable = true)\n",
      " |-- Transaction Type: string (nullable = true)\n",
      " |-- Payment Method: string (nullable = true)\n",
      " |-- Invoice Total: string (nullable = true)\n",
      "\n"
     ]
    }
   ],
   "source": [
    "df_transactions.printSchema()"
   ]
  },
  {
   "cell_type": "code",
   "execution_count": 7,
   "id": "ae50d386-b636-489c-abd0-c20eb3c65e2a",
   "metadata": {},
   "outputs": [
    {
     "name": "stdout",
     "output_type": "stream",
     "text": [
      "root\n",
      " |-- Customer ID: string (nullable = true)\n",
      " |-- Name: string (nullable = true)\n",
      " |-- Email: string (nullable = true)\n",
      " |-- Telephone: string (nullable = true)\n",
      " |-- City: string (nullable = true)\n",
      " |-- Country: string (nullable = true)\n",
      " |-- Gender: string (nullable = true)\n",
      " |-- Date Of Birth: string (nullable = true)\n",
      " |-- Job Title: string (nullable = true)\n",
      "\n"
     ]
    }
   ],
   "source": [
    "df_customers.printSchema()"
   ]
  },
  {
   "cell_type": "code",
   "execution_count": 8,
   "id": "ddca606d-0436-4640-a7f1-5e866aaa2ab0",
   "metadata": {},
   "outputs": [
    {
     "name": "stdout",
     "output_type": "stream",
     "text": [
      "+----------+----+-----------+----------+------+-------+----------+--------+----+--------+----------+--------+-----------+--------+---------------+---+----------------+--------------+-------------+\n",
      "|Invoice ID|Line|Customer ID|Product ID|  Size|  Color|Unit Price|Quantity|Date|Discount|Line Total|Store ID|Employee ID|Currency|Currency Symbol|SKU|Transaction Type|Payment Method|Invoice Total|\n",
      "+----------+----+-----------+----------+------+-------+----------+--------+----+--------+----------+--------+-----------+--------+---------------+---+----------------+--------------+-------------+\n",
      "|         0|   0|          0|         0|413102|4350783|         0|       0|   0|       0|         0|       0|          0|       0|              0|  0|               0|             0|            0|\n",
      "+----------+----+-----------+----------+------+-------+----------+--------+----+--------+----------+--------+-----------+--------+---------------+---+----------------+--------------+-------------+\n",
      "\n"
     ]
    }
   ],
   "source": [
    "from pyspark.sql.functions import col, sum, when\n",
    "\n",
    "missing_counts = df_transactions.select([\n",
    "    sum(when(col(c).isNull(), 1).otherwise(0)).alias(c)\n",
    "    for c in df_transactions.columns\n",
    "])\n",
    "\n",
    "missing_counts.show()"
   ]
  },
  {
   "cell_type": "code",
   "execution_count": 9,
   "id": "61459090-4808-425c-a8f6-45f06bfb3213",
   "metadata": {},
   "outputs": [
    {
     "name": "stdout",
     "output_type": "stream",
     "text": [
      "Size missing: 413102 (6.44%)\n",
      "Color missing: 4350783 (67.80%)\n"
     ]
    }
   ],
   "source": [
    "from pyspark.sql.functions import col, when, count\n",
    "\n",
    "total_rows = df_transactions.count()\n",
    "\n",
    "missing_size = df_transactions.filter(col(\"Size\").isNull()).count()\n",
    "missing_color = df_transactions.filter(col(\"Color\").isNull()).count()\n",
    "\n",
    "print(f\"Size missing: {missing_size} ({missing_size/total_rows:.2%})\")\n",
    "print(f\"Color missing: {missing_color} ({missing_color/total_rows:.2%})\")"
   ]
  },
  {
   "cell_type": "code",
   "execution_count": 10,
   "id": "10d1993e-fc25-406d-9f06-944a70c5f75c",
   "metadata": {},
   "outputs": [],
   "source": [
    "from pyspark.sql.functions import col, count, when\n",
    "\n",
    "# 1. Hitung nilai yang paling sering muncul (modus) untuk kolom kategorikal\n",
    "most_common_size = (\n",
    "    df_transactions.filter(col(\"Size\").isNotNull())\n",
    "      .groupBy(\"Size\")\n",
    "      .count()\n",
    "      .orderBy(\"count\", ascending=False)\n",
    "      .first()[0]\n",
    ")\n",
    "\n",
    "most_common_color = (\n",
    "    df_transactions.filter(col(\"Color\").isNotNull())\n",
    "      .groupBy(\"Color\")\n",
    "      .count()\n",
    "      .orderBy(\"count\", ascending=False)\n",
    "      .first()[0]\n",
    ")\n",
    "\n",
    "# 2. Isi missing value dengan nilai modus tersebut\n",
    "df_transactions_filled = df_transactions.fillna({\n",
    "    \"Size\": most_common_size,\n",
    "    \"Color\": most_common_color\n",
    "})"
   ]
  },
  {
   "cell_type": "code",
   "execution_count": 11,
   "id": "1b59a565-173d-43a2-9fd5-a12e182b3949",
   "metadata": {},
   "outputs": [
    {
     "name": "stdout",
     "output_type": "stream",
     "text": [
      "+----------+----+-----------+----------+----+-----+----------+--------+----+--------+----------+--------+-----------+--------+---------------+---+----------------+--------------+-------------+\n",
      "|Invoice ID|Line|Customer ID|Product ID|Size|Color|Unit Price|Quantity|Date|Discount|Line Total|Store ID|Employee ID|Currency|Currency Symbol|SKU|Transaction Type|Payment Method|Invoice Total|\n",
      "+----------+----+-----------+----------+----+-----+----------+--------+----+--------+----------+--------+-----------+--------+---------------+---+----------------+--------------+-------------+\n",
      "|         0|   0|          0|         0|   0|    0|         0|       0|   0|       0|         0|       0|          0|       0|              0|  0|               0|             0|            0|\n",
      "+----------+----+-----------+----------+----+-----+----------+--------+----+--------+----------+--------+-----------+--------+---------------+---+----------------+--------------+-------------+\n",
      "\n"
     ]
    }
   ],
   "source": [
    "from pyspark.sql.functions import col, sum, when\n",
    "\n",
    "missing_counts = df_transactions_filled.select([\n",
    "    sum(when(col(c).isNull(), 1).otherwise(0)).alias(c)\n",
    "    for c in df_transactions_filled.columns\n",
    "])\n",
    "\n",
    "missing_counts.show()"
   ]
  },
  {
   "cell_type": "code",
   "execution_count": 12,
   "id": "02ba7b98-f851-4e9d-bc7b-ad59678d25da",
   "metadata": {},
   "outputs": [
    {
     "name": "stdout",
     "output_type": "stream",
     "text": [
      "+-----------+----+-----+---------+----+-------+------+-------------+---------+\n",
      "|Customer ID|Name|Email|Telephone|City|Country|Gender|Date Of Birth|Job Title|\n",
      "+-----------+----+-----+---------+----+-------+------+-------------+---------+\n",
      "|          0|   0|    0|        0|   0|      0|     0|            0|   584185|\n",
      "+-----------+----+-----+---------+----+-------+------+-------------+---------+\n",
      "\n"
     ]
    }
   ],
   "source": [
    "from pyspark.sql.functions import col, sum, when\n",
    "\n",
    "missing_counts = df_customers.select([\n",
    "    sum(when(col(c).isNull(), 1).otherwise(0)).alias(c)\n",
    "    for c in df_customers.columns\n",
    "])\n",
    "\n",
    "missing_counts.show()"
   ]
  },
  {
   "cell_type": "code",
   "execution_count": 13,
   "id": "b42386cc-284c-4b5a-baa8-c69ac5c9c6c3",
   "metadata": {},
   "outputs": [],
   "source": [
    "most_common_size = (\n",
    "    df_customers.filter(col(\"Job Title\").isNotNull())\n",
    "      .groupBy(\"Job Title\")\n",
    "      .count()\n",
    "      .orderBy(\"count\", ascending=False)\n",
    "      .first()[0]\n",
    ")\n",
    "\n",
    "# 2. Isi missing value dengan nilai modus tersebut\n",
    "df_customers_filled = df_customers.fillna({\n",
    "    \"Job Title\": most_common_size\n",
    "})"
   ]
  },
  {
   "cell_type": "code",
   "execution_count": 14,
   "id": "1f0dcce2-7d31-472b-b6aa-d960ed12d530",
   "metadata": {},
   "outputs": [
    {
     "name": "stdout",
     "output_type": "stream",
     "text": [
      "+-----------+----+-----+---------+----+-------+------+-------------+---------+\n",
      "|Customer ID|Name|Email|Telephone|City|Country|Gender|Date Of Birth|Job Title|\n",
      "+-----------+----+-----+---------+----+-------+------+-------------+---------+\n",
      "|          0|   0|    0|        0|   0|      0|     0|            0|        0|\n",
      "+-----------+----+-----+---------+----+-------+------+-------------+---------+\n",
      "\n"
     ]
    }
   ],
   "source": [
    "from pyspark.sql.functions import col, sum, when\n",
    "\n",
    "missing_counts = df_customers_filled.select([\n",
    "    sum(when(col(c).isNull(), 1).otherwise(0)).alias(c)\n",
    "    for c in df_customers_filled.columns\n",
    "])\n",
    "\n",
    "missing_counts.show()"
   ]
  },
  {
   "cell_type": "code",
   "execution_count": 15,
   "id": "9292c7ca-4b1a-4402-846b-ed6558dd266c",
   "metadata": {},
   "outputs": [
    {
     "name": "stdout",
     "output_type": "stream",
     "text": [
      "+-------------------+----+-----------+----------+----+-----+----------+--------+-------------------+--------+----------+--------+-----------+--------+---------------+-----------+----------------+--------------+-------------+\n",
      "|         Invoice ID|Line|Customer ID|Product ID|Size|Color|Unit Price|Quantity|               Date|Discount|Line Total|Store ID|Employee ID|Currency|Currency Symbol|        SKU|Transaction Type|Payment Method|Invoice Total|\n",
      "+-------------------+----+-----------+----------+----+-----+----------+--------+-------------------+--------+----------+--------+-----------+--------+---------------+-----------+----------------+--------------+-------------+\n",
      "|INV-US-001-03558761|   1|      47162|       485|   M| BLUE|      80.5|       1|2023-01-01 15:42:00|     0.0|      80.5|       1|          7|     USD|              $| MASU485-M-|            Sale|          Cash|        126.7|\n",
      "|INV-US-001-03558761|   2|      47162|      2779|   G| BLUE|      31.5|       1|2023-01-01 15:42:00|     0.4|      18.9|       1|          7|     USD|              $|CHCO2779-G-|            Sale|          Cash|        126.7|\n",
      "+-------------------+----+-----------+----------+----+-----+----------+--------+-------------------+--------+----------+--------+-----------+--------+---------------+-----------+----------------+--------------+-------------+\n",
      "only showing top 2 rows\n",
      "\n",
      "+-----------+-------------+--------------------+------------------+--------+-------------+------+-------------+--------------------+\n",
      "|Customer ID|         Name|               Email|         Telephone|    City|      Country|Gender|Date Of Birth|           Job Title|\n",
      "+-----------+-------------+--------------------+------------------+--------+-------------+------+-------------+--------------------+\n",
      "|          1| Tyler Garcia|tyler.garcia@fake...|922.970.2265x47563|New York|United States|     M|   2003-07-15|Museum/gallery ex...|\n",
      "|          2|Joshua Miller|joshua.miller@fak...|   +1-958-729-6169|New York|United States|     M|   2000-06-16|     Records manager|\n",
      "+-----------+-------------+--------------------+------------------+--------+-------------+------+-------------+--------------------+\n",
      "only showing top 2 rows\n",
      "\n"
     ]
    }
   ],
   "source": [
    "df_transactions_filled.show(2)\n",
    "df_customers_filled.show(2)"
   ]
  },
  {
   "cell_type": "code",
   "execution_count": 19,
   "id": "4bb1912b-e730-47d6-a457-b8b7d17c92d2",
   "metadata": {},
   "outputs": [
    {
     "name": "stdout",
     "output_type": "stream",
     "text": [
      "+-----------+------+----------------+-----------------+------------------+\n",
      "|Customer ID|Name  |num_transactions|total_sales      |avg_sales         |\n",
      "+-----------+------+----------------+-----------------+------------------+\n",
      "|577063     |李秀华|15              |86566.68999999999|2278.070789473684 |\n",
      "|671898     |王慧  |10              |81611.0          |3022.6296296296296|\n",
      "|450001     |张峰  |18              |79720.96         |1771.576888888889 |\n",
      "|694236     |赵娟  |19              |77675.53         |1726.1228888888888|\n",
      "|482569     |花刚  |18              |75297.15         |2596.453448275862 |\n",
      "+-----------+------+----------------+-----------------+------------------+\n",
      "only showing top 5 rows\n",
      "\n"
     ]
    }
   ],
   "source": [
    "from pyspark.sql import functions as F\n",
    "\n",
    "# Join kedua tabel di customer ID\n",
    "df_joined = df_transactions_filled.join(df_customers_filled, on=\"Customer ID\", how=\"inner\")\n",
    "\n",
    "# 1. Total penjualan dan jumlah transaksi per customer\n",
    "agg_customer = df_joined.groupBy(\"Customer ID\", \"Name\").agg(\n",
    "    F.countDistinct(\"Invoice ID\").alias(\"num_transactions\"),\n",
    "    F.sum(\"Invoice Total\").alias(\"total_sales\"),\n",
    "    F.avg(\"Invoice Total\").alias(\"avg_sales\")\n",
    ").orderBy(F.desc(\"total_sales\"))\n",
    "\n",
    "agg_customer.show(5, truncate=False)"
   ]
  },
  {
   "cell_type": "code",
   "execution_count": 20,
   "id": "2c90bb43-65c4-4d36-8ef5-5a8de8575fc8",
   "metadata": {},
   "outputs": [
    {
     "name": "stdout",
     "output_type": "stream",
     "text": [
      "+----+----------------+--------------------+-------------+\n",
      "|City|num_transactions|total_sales         |num_customers|\n",
      "+----+----------------+--------------------+-------------+\n",
      "|深圳|207214          |2.1415250447999996E8|55941        |\n",
      "|上海|203540          |2.1169211219E8      |40976        |\n",
      "|广州|193603          |2.0375263251999995E8|32996        |\n",
      "|北京|159529          |1.667636002999999E8 |46232        |\n",
      "|重庆|107921          |1.1371054553000012E8|24003        |\n",
      "+----+----------------+--------------------+-------------+\n",
      "only showing top 5 rows\n",
      "\n"
     ]
    }
   ],
   "source": [
    "# 2. Total penjualan per city\n",
    "agg_city = df_joined.groupBy(\"City\").agg(\n",
    "    F.countDistinct(\"Invoice ID\").alias(\"num_transactions\"),\n",
    "    F.sum(\"Invoice Total\").alias(\"total_sales\"),\n",
    "    F.countDistinct(\"Customer ID\").alias(\"num_customers\")\n",
    ").orderBy(F.desc(\"total_sales\"))\n",
    "\n",
    "agg_city.show(5, truncate=False)"
   ]
  },
  {
   "cell_type": "code",
   "execution_count": 21,
   "id": "c25479d1-6e26-46dc-86b4-5298e0b16100",
   "metadata": {},
   "outputs": [
    {
     "name": "stdout",
     "output_type": "stream",
     "text": [
      "+------+----------------+-------------------+-------------+\n",
      "|Gender|num_transactions|        total_sales|num_customers|\n",
      "+------+----------------+-------------------+-------------+\n",
      "|     F|         2901929|9.343590403999864E8|       596099|\n",
      "|     M|         1635652|6.273548965599934E8|       686397|\n",
      "|     D|            2823|          954399.91|         1211|\n",
      "+------+----------------+-------------------+-------------+\n",
      "\n"
     ]
    }
   ],
   "source": [
    "# 3. Penjualan dan jumlah customer berdasarkan gender\n",
    "agg_gender = df_joined.groupBy(\"Gender\").agg(\n",
    "    F.countDistinct(\"Invoice ID\").alias(\"num_transactions\"),\n",
    "    F.sum(\"Invoice Total\").alias(\"total_sales\"),\n",
    "    F.countDistinct(\"Customer ID\").alias(\"num_customers\")\n",
    ")\n",
    "\n",
    "agg_gender.show()"
   ]
  },
  {
   "cell_type": "code",
   "execution_count": 22,
   "id": "387b67ad-f543-4d27-ad24-a139bce17bed",
   "metadata": {},
   "outputs": [
    {
     "name": "stdout",
     "output_type": "stream",
     "text": [
      "+-----------+------+----------------+-----------------+------------------+\n",
      "|Customer ID|Name  |num_transactions|total_sales      |avg_sales         |\n",
      "+-----------+------+----------------+-----------------+------------------+\n",
      "|577063     |李秀华|15              |86566.68999999999|2278.070789473684 |\n",
      "|671898     |王慧  |10              |81611.0          |3022.6296296296296|\n",
      "|450001     |张峰  |18              |79720.96         |1771.576888888889 |\n",
      "|694236     |赵娟  |19              |77675.53         |1726.1228888888888|\n",
      "|482569     |花刚  |18              |75297.15         |2596.453448275862 |\n",
      "|363327     |陈慧  |21              |72841.45         |1348.9157407407406|\n",
      "|502106     |齐秀芳|26              |72105.18000000001|1360.4750943396227|\n",
      "|411743     |郑涛  |5               |72068.25         |2771.855769230769 |\n",
      "|484353     |柏秀华|22              |71872.74         |1437.4548000000002|\n",
      "|549169     |孙建军|16              |70282.75         |2129.780303030303 |\n",
      "+-----------+------+----------------+-----------------+------------------+\n",
      "\n"
     ]
    }
   ],
   "source": [
    "# 4. Top 10 customer by total sales\n",
    "top_customers = agg_customer.limit(10)\n",
    "\n",
    "top_customers.show(truncate=False)"
   ]
  }
 ],
 "metadata": {
  "kernelspec": {
   "display_name": "Python 3 (ipykernel)",
   "language": "python",
   "name": "python3"
  },
  "language_info": {
   "codemirror_mode": {
    "name": "ipython",
    "version": 3
   },
   "file_extension": ".py",
   "mimetype": "text/x-python",
   "name": "python",
   "nbconvert_exporter": "python",
   "pygments_lexer": "ipython3",
   "version": "3.11.7"
  }
 },
 "nbformat": 4,
 "nbformat_minor": 5
}
